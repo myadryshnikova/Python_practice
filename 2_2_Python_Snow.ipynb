{
 "cells": [
  {
   "cell_type": "code",
   "execution_count": 91,
   "id": "1f5f36bd",
   "metadata": {},
   "outputs": [],
   "source": [
    "import math\n",
    "\n",
    "class Snow:\n",
    "    def __init__(self, number_of_snowflakes: int):\n",
    "        self.number_of_snowflakes = number_of_snowflakes\n",
    "            \n",
    "    def __add__(self, n: int):\n",
    "        return Snow(self.number_of_snowflakes + n)\n",
    "        \n",
    "    def __sub__(self, n: int):\n",
    "        return Snow(self.number_of_snowflakes - n)\n",
    "        \n",
    "    def __mul__(self, n: int):\n",
    "        return Snow(self.number_of_snowflakes * n)\n",
    "        \n",
    "    def __truediv__(self, n: int):\n",
    "        return Snow(round(self.number_of_snowflakes / n))\n",
    "    \n",
    "    def __call__(self, number_of_snowflakes: int):\n",
    "        self.number_of_snowflakes = number_of_snowflakes\n",
    "    \n",
    "    def __repr__(self):\n",
    "        return f'Snow with number of snowflakes {self.number_of_snowflakes}'\n",
    "    \n",
    "    def make_snow(self, number_of_snowflakes_in_row: int):\n",
    "        rows_count = math.ceil(self.number_of_snowflakes / number_of_snowflakes_in_row)\n",
    "        remaining_snowflakes = self.number_of_snowflakes\n",
    "        \n",
    "        for i in range(rows_count):\n",
    "            if remaining_snowflakes - number_of_snowflakes_in_row >= 0:\n",
    "                print('*' * number_of_snowflakes_in_row + '\\n')\n",
    "            else:\n",
    "                print('*' * (remaining_snowflakes) + '\\n')\n",
    "                \n",
    "            remaining_snowflakes = remaining_snowflakes - number_of_snowflakes_in_row\n",
    "            "
   ]
  },
  {
   "cell_type": "code",
   "execution_count": 92,
   "id": "dbc1db15",
   "metadata": {},
   "outputs": [],
   "source": [
    "snowball = Snow(5)"
   ]
  },
  {
   "cell_type": "code",
   "execution_count": 93,
   "id": "47d2711f",
   "metadata": {},
   "outputs": [
    {
     "data": {
      "text/plain": [
       "Snow with number of snowflakes 5"
      ]
     },
     "execution_count": 93,
     "metadata": {},
     "output_type": "execute_result"
    }
   ],
   "source": [
    "snowball"
   ]
  },
  {
   "cell_type": "markdown",
   "id": "104edfb1",
   "metadata": {},
   "source": [
    "Перегрузка оператора сложения"
   ]
  },
  {
   "cell_type": "code",
   "execution_count": 94,
   "id": "fed3e7ed",
   "metadata": {},
   "outputs": [
    {
     "data": {
      "text/plain": [
       "Snow with number of snowflakes 6"
      ]
     },
     "execution_count": 94,
     "metadata": {},
     "output_type": "execute_result"
    }
   ],
   "source": [
    "snowball + 1"
   ]
  },
  {
   "cell_type": "markdown",
   "id": "7bd83ce2",
   "metadata": {},
   "source": [
    "Перегрузка оператора вычитания"
   ]
  },
  {
   "cell_type": "code",
   "execution_count": 95,
   "id": "2f1d7daf",
   "metadata": {},
   "outputs": [
    {
     "data": {
      "text/plain": [
       "Snow with number of snowflakes 4"
      ]
     },
     "execution_count": 95,
     "metadata": {},
     "output_type": "execute_result"
    }
   ],
   "source": [
    "snowball - 1"
   ]
  },
  {
   "cell_type": "markdown",
   "id": "a23256db",
   "metadata": {},
   "source": [
    "Перегрузка оператора умножения"
   ]
  },
  {
   "cell_type": "code",
   "execution_count": 96,
   "id": "30f63e98",
   "metadata": {},
   "outputs": [
    {
     "data": {
      "text/plain": [
       "Snow with number of snowflakes 10"
      ]
     },
     "execution_count": 96,
     "metadata": {},
     "output_type": "execute_result"
    }
   ],
   "source": [
    "snowball * 2"
   ]
  },
  {
   "cell_type": "markdown",
   "id": "90280f70",
   "metadata": {},
   "source": [
    "Перегрузка оператора деления"
   ]
  },
  {
   "cell_type": "code",
   "execution_count": 97,
   "id": "f8948d79",
   "metadata": {},
   "outputs": [
    {
     "data": {
      "text/plain": [
       "Snow with number of snowflakes 2"
      ]
     },
     "execution_count": 97,
     "metadata": {},
     "output_type": "execute_result"
    }
   ],
   "source": [
    "snowball / 2"
   ]
  },
  {
   "cell_type": "code",
   "execution_count": 98,
   "id": "f149ff25",
   "metadata": {},
   "outputs": [
    {
     "name": "stdout",
     "output_type": "stream",
     "text": [
      "***\n",
      "\n",
      "**\n",
      "\n"
     ]
    }
   ],
   "source": [
    "snowball.make_snow(3)"
   ]
  },
  {
   "cell_type": "code",
   "execution_count": 99,
   "id": "09d360c2",
   "metadata": {},
   "outputs": [
    {
     "data": {
      "text/plain": [
       "Snow with number of snowflakes 5"
      ]
     },
     "execution_count": 99,
     "metadata": {},
     "output_type": "execute_result"
    }
   ],
   "source": [
    "snowball"
   ]
  },
  {
   "cell_type": "code",
   "execution_count": 100,
   "id": "eaeadf77",
   "metadata": {},
   "outputs": [],
   "source": [
    "snowball(2)"
   ]
  },
  {
   "cell_type": "code",
   "execution_count": 101,
   "id": "223e093b",
   "metadata": {},
   "outputs": [
    {
     "data": {
      "text/plain": [
       "Snow with number of snowflakes 2"
      ]
     },
     "execution_count": 101,
     "metadata": {},
     "output_type": "execute_result"
    }
   ],
   "source": [
    "snowball"
   ]
  },
  {
   "cell_type": "code",
   "execution_count": null,
   "id": "3a8422b1",
   "metadata": {},
   "outputs": [],
   "source": []
  }
 ],
 "metadata": {
  "kernelspec": {
   "display_name": "Python 3 (ipykernel)",
   "language": "python",
   "name": "python3"
  },
  "language_info": {
   "codemirror_mode": {
    "name": "ipython",
    "version": 3
   },
   "file_extension": ".py",
   "mimetype": "text/x-python",
   "name": "python",
   "nbconvert_exporter": "python",
   "pygments_lexer": "ipython3",
   "version": "3.8.10"
  }
 },
 "nbformat": 4,
 "nbformat_minor": 5
}
