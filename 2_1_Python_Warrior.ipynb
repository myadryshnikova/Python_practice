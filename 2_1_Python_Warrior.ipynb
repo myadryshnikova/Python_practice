{
 "cells": [
  {
   "cell_type": "code",
   "execution_count": 39,
   "id": "03a79be5",
   "metadata": {},
   "outputs": [],
   "source": [
    "class Warrior:\n",
    "    def __init__(self, name: str, health: int = 100):\n",
    "        self.health = health\n",
    "        self.name = name\n",
    "        \n",
    "    def attack(self):\n",
    "        print(f'Attacking {self.name}.')\n",
    "        \n",
    "    def get_damaged(self):\n",
    "        self.health -= 20\n",
    "        print(f'{self.name} took damage. Health now: {self.health}.')\n",
    "            \n",
    "    def __repr__(self):\n",
    "        return f'Warrior {self.name}, health: {self.health}'\n",
    "        \n",
    "    def __del__(self):\n",
    "        print(f'Goodby, {self.name}')"
   ]
  },
  {
   "cell_type": "code",
   "execution_count": 40,
   "id": "bb7ca48e",
   "metadata": {},
   "outputs": [],
   "source": [
    "from random import randint\n",
    "\n",
    "def start_a_fight():\n",
    "    warriors = [Warrior('Ivan'), Warrior('Dmitry')]\n",
    "    \n",
    "    round_number = 1\n",
    "    \n",
    "    while True:\n",
    "        print(f'ROUND {round_number}')\n",
    "        index_of_the_attack_warrior = random.randint(0, len(warriors) - 1)\n",
    "\n",
    "        the_warrior_who_attack = warriors[index_of_the_attack_warrior]\n",
    "        the_warrior_who_get_damaged = warriors[index_of_the_attack_warrior - 1]\n",
    "\n",
    "        the_warrior_who_attack.attack()\n",
    "        the_warrior_who_get_damaged.get_damaged()\n",
    "        \n",
    "        round_number += 1\n",
    "        \n",
    "        if the_warrior_who_get_damaged.health <= 0:\n",
    "            print(f'\\nWINNER: {the_warrior_who_attack}\\n')\n",
    "            del the_warrior_who_get_damaged\n",
    "            break"
   ]
  },
  {
   "cell_type": "code",
   "execution_count": 41,
   "id": "67dccc04",
   "metadata": {},
   "outputs": [
    {
     "name": "stdout",
     "output_type": "stream",
     "text": [
      "ROUND 1\n",
      "Attacking Dmitry.\n",
      "Ivan took damage. Health now: 80.\n",
      "ROUND 2\n",
      "Attacking Ivan.\n",
      "Dmitry took damage. Health now: 80.\n",
      "ROUND 3\n",
      "Attacking Dmitry.\n",
      "Ivan took damage. Health now: 60.\n",
      "ROUND 4\n",
      "Attacking Ivan.\n",
      "Dmitry took damage. Health now: 60.\n",
      "ROUND 5\n",
      "Attacking Dmitry.\n",
      "Ivan took damage. Health now: 40.\n",
      "ROUND 6\n",
      "Attacking Ivan.\n",
      "Dmitry took damage. Health now: 40.\n",
      "ROUND 7\n",
      "Attacking Dmitry.\n",
      "Ivan took damage. Health now: 20.\n",
      "ROUND 8\n",
      "Attacking Dmitry.\n",
      "Ivan took damage. Health now: 0.\n",
      "\n",
      "WINNER: Warrior Dmitry, health: 40\n",
      "\n",
      "Goodby, Ivan\n",
      "Goodby, Dmitry\n"
     ]
    }
   ],
   "source": [
    "start_a_fight()"
   ]
  },
  {
   "cell_type": "code",
   "execution_count": null,
   "id": "fd7f7ee1",
   "metadata": {},
   "outputs": [],
   "source": []
  }
 ],
 "metadata": {
  "kernelspec": {
   "display_name": "Python 3 (ipykernel)",
   "language": "python",
   "name": "python3"
  },
  "language_info": {
   "codemirror_mode": {
    "name": "ipython",
    "version": 3
   },
   "file_extension": ".py",
   "mimetype": "text/x-python",
   "name": "python",
   "nbconvert_exporter": "python",
   "pygments_lexer": "ipython3",
   "version": "3.8.10"
  }
 },
 "nbformat": 4,
 "nbformat_minor": 5
}
